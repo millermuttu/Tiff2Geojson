{
 "cells": [
  {
   "cell_type": "code",
   "execution_count": 5,
   "metadata": {
    "colab": {
     "base_uri": "https://localhost:8080/",
     "height": 524
    },
    "colab_type": "code",
    "id": "M8kU0nSFoITU",
    "outputId": "07bef998-5733-4a9e-cf1f-08d61186c134"
   },
   "outputs": [
    {
     "name": "stdout",
     "output_type": "stream",
     "text": [
      "Requirement already satisfied: geopandas in /usr/local/lib/python3.6/dist-packages (0.7.0)\n",
      "Requirement already satisfied: pandas>=0.23.0 in /usr/local/lib/python3.6/dist-packages (from geopandas) (1.0.3)\n",
      "Requirement already satisfied: pyproj>=2.2.0 in /usr/local/lib/python3.6/dist-packages (from geopandas) (2.6.0)\n",
      "Requirement already satisfied: fiona in /usr/local/lib/python3.6/dist-packages (from geopandas) (1.8.13.post1)\n",
      "Requirement already satisfied: shapely in /usr/local/lib/python3.6/dist-packages (from geopandas) (1.7.0)\n",
      "Requirement already satisfied: pytz>=2017.2 in /usr/local/lib/python3.6/dist-packages (from pandas>=0.23.0->geopandas) (2018.9)\n",
      "Requirement already satisfied: numpy>=1.13.3 in /usr/local/lib/python3.6/dist-packages (from pandas>=0.23.0->geopandas) (1.18.3)\n",
      "Requirement already satisfied: python-dateutil>=2.6.1 in /usr/local/lib/python3.6/dist-packages (from pandas>=0.23.0->geopandas) (2.8.1)\n",
      "Requirement already satisfied: cligj>=0.5 in /usr/local/lib/python3.6/dist-packages (from fiona->geopandas) (0.5.0)\n",
      "Requirement already satisfied: six>=1.7 in /usr/local/lib/python3.6/dist-packages (from fiona->geopandas) (1.12.0)\n",
      "Requirement already satisfied: click-plugins>=1.0 in /usr/local/lib/python3.6/dist-packages (from fiona->geopandas) (1.1.1)\n",
      "Requirement already satisfied: attrs>=17 in /usr/local/lib/python3.6/dist-packages (from fiona->geopandas) (19.3.0)\n",
      "Requirement already satisfied: munch in /usr/local/lib/python3.6/dist-packages (from fiona->geopandas) (2.5.0)\n",
      "Requirement already satisfied: click<8,>=4.0 in /usr/local/lib/python3.6/dist-packages (from fiona->geopandas) (7.1.1)\n",
      "Collecting rasterio\n",
      "\u001b[?25l  Downloading https://files.pythonhosted.org/packages/c7/81/13321f88f582a00705c5f348724728e8999136e19d6e7c56f7e6ac9bb7f9/rasterio-1.1.3-cp36-cp36m-manylinux1_x86_64.whl (18.1MB)\n",
      "\u001b[K     |████████████████████████████████| 18.1MB 256kB/s \n",
      "\u001b[?25hRequirement already satisfied: attrs in /usr/local/lib/python3.6/dist-packages (from rasterio) (19.3.0)\n",
      "Requirement already satisfied: cligj>=0.5 in /usr/local/lib/python3.6/dist-packages (from rasterio) (0.5.0)\n",
      "Requirement already satisfied: click-plugins in /usr/local/lib/python3.6/dist-packages (from rasterio) (1.1.1)\n",
      "Collecting snuggs>=1.4.1\n",
      "  Downloading https://files.pythonhosted.org/packages/cc/0e/d27d6e806d6c0d1a2cfdc5d1f088e42339a0a54a09c3343f7f81ec8947ea/snuggs-1.4.7-py3-none-any.whl\n",
      "Requirement already satisfied: click<8,>=4.0 in /usr/local/lib/python3.6/dist-packages (from rasterio) (7.1.1)\n",
      "Requirement already satisfied: numpy in /usr/local/lib/python3.6/dist-packages (from rasterio) (1.18.3)\n",
      "Collecting affine\n",
      "  Downloading https://files.pythonhosted.org/packages/ac/a6/1a39a1ede71210e3ddaf623982b06ecfc5c5c03741ae659073159184cd3e/affine-2.3.0-py2.py3-none-any.whl\n",
      "Requirement already satisfied: pyparsing>=2.1.6 in /usr/local/lib/python3.6/dist-packages (from snuggs>=1.4.1->rasterio) (2.4.7)\n",
      "Installing collected packages: snuggs, affine, rasterio\n",
      "Successfully installed affine-2.3.0 rasterio-1.1.3 snuggs-1.4.7\n"
     ]
    }
   ],
   "source": [
    "!pip install geopandas\n",
    "!pip install rasterio\n"
   ]
  },
  {
   "cell_type": "code",
   "execution_count": 0,
   "metadata": {
    "colab": {},
    "colab_type": "code",
    "id": "JjeAtRjqlWar"
   },
   "outputs": [],
   "source": [
    "tiff_name = '/content/20170523T104031.tif'"
   ]
  },
  {
   "cell_type": "code",
   "execution_count": 107,
   "metadata": {
    "colab": {
     "base_uri": "https://localhost:8080/",
     "height": 168
    },
    "colab_type": "code",
    "id": "qaYJyyKpmhp6",
    "outputId": "22c22159-b801-4b83-c351-effde8608e26"
   },
   "outputs": [
    {
     "data": {
      "text/plain": [
       "{'count': 1,\n",
       " 'crs': CRS.from_epsg(32632),\n",
       " 'driver': 'GTiff',\n",
       " 'dtype': 'float32',\n",
       " 'height': 451,\n",
       " 'nodata': -999.0,\n",
       " 'transform': Affine(1.0, 0.0, 604759.188423898,\n",
       "       0.0, -1.0, 6754984.447177208),\n",
       " 'width': 337}"
      ]
     },
     "execution_count": 107,
     "metadata": {
      "tags": []
     },
     "output_type": "execute_result"
    }
   ],
   "source": [
    "import rasterio\n",
    "data = rasterio.open(tiff_name).meta\n",
    "data"
   ]
  },
  {
   "cell_type": "code",
   "execution_count": 108,
   "metadata": {
    "colab": {
     "base_uri": "https://localhost:8080/",
     "height": 34
    },
    "colab_type": "code",
    "id": "ltQiEdI9By5g",
    "outputId": "455609a1-ee9b-4c23-97e2-9ec4b5e74933"
   },
   "outputs": [
    {
     "data": {
      "text/plain": [
       "'32632'"
      ]
     },
     "execution_count": 108,
     "metadata": {
      "tags": []
     },
     "output_type": "execute_result"
    }
   ],
   "source": [
    "c = str(data['crs'])\n",
    "c_s = c.split(':')\n",
    "c_s[1]"
   ]
  },
  {
   "cell_type": "code",
   "execution_count": 0,
   "metadata": {
    "colab": {},
    "colab_type": "code",
    "id": "wxbx-PwXmnjx"
   },
   "outputs": [],
   "source": [
    "# import rasterio\n",
    "# from rasterio.features import shapes\n",
    "# mask = None\n",
    "# with rasterio.open(tiff_name) as src:\n",
    "#     image = src.read(1) # first band\n",
    "#     results = (\n",
    "#     {'properties': {'raster_val': v}, 'geometry': s}\n",
    "#     for i, (s, v) \n",
    "#     in enumerate(\n",
    "#         shapes(image, mask=mask, transform=data['transform'])))"
   ]
  },
  {
   "cell_type": "code",
   "execution_count": 0,
   "metadata": {
    "colab": {},
    "colab_type": "code",
    "id": "r6AOK103Yytk"
   },
   "outputs": [],
   "source": [
    "import rasterio\n",
    "from rasterio.features import shapes\n",
    "mask = None\n",
    "with rasterio.open(tiff_name) as src:\n",
    "    image = src.read(1) # first band\n",
    "    results = (\n",
    "    {'properties': {'NDVI': v}, 'geometry': s}\n",
    "    for i, (s, v) \n",
    "    in enumerate(\n",
    "        shapes(image, mask=mask, transform=data['transform'])))"
   ]
  },
  {
   "cell_type": "code",
   "execution_count": 0,
   "metadata": {
    "colab": {},
    "colab_type": "code",
    "id": "ZrWcD732nldl"
   },
   "outputs": [],
   "source": [
    " geoms = list(results)"
   ]
  },
  {
   "cell_type": "code",
   "execution_count": 0,
   "metadata": {
    "colab": {},
    "colab_type": "code",
    "id": "CltNH-U4oPnw"
   },
   "outputs": [],
   "source": [
    "import geopandas as gp\n",
    "gpd_polygonized_raster  = gp.GeoDataFrame.from_features(geoms, crs=c)"
   ]
  },
  {
   "cell_type": "code",
   "execution_count": 0,
   "metadata": {
    "colab": {},
    "colab_type": "code",
    "id": "ieQXqBdZEIPI"
   },
   "outputs": [],
   "source": [
    "gpd_polygonized_raster = gpd_polygonized_raster[gpd_polygonized_raster['NDVI']>0]"
   ]
  },
  {
   "cell_type": "code",
   "execution_count": 114,
   "metadata": {
    "colab": {
     "base_uri": "https://localhost:8080/",
     "height": 402
    },
    "colab_type": "code",
    "id": "N2yRT6n9E3ld",
    "outputId": "39f07ee5-d760-4717-c9c5-5e8b42130943"
   },
   "outputs": [
    {
     "data": {
      "text/html": [
       "<div>\n",
       "<style scoped>\n",
       "    .dataframe tbody tr th:only-of-type {\n",
       "        vertical-align: middle;\n",
       "    }\n",
       "\n",
       "    .dataframe tbody tr th {\n",
       "        vertical-align: top;\n",
       "    }\n",
       "\n",
       "    .dataframe thead th {\n",
       "        text-align: right;\n",
       "    }\n",
       "</style>\n",
       "<table border=\"1\" class=\"dataframe\">\n",
       "  <thead>\n",
       "    <tr style=\"text-align: right;\">\n",
       "      <th></th>\n",
       "      <th>geometry</th>\n",
       "      <th>NDVI</th>\n",
       "    </tr>\n",
       "  </thead>\n",
       "  <tbody>\n",
       "    <tr>\n",
       "      <th>0</th>\n",
       "      <td>POLYGON ((605002.188 6754892.447, 605002.188 6...</td>\n",
       "      <td>0.518175</td>\n",
       "    </tr>\n",
       "    <tr>\n",
       "      <th>1</th>\n",
       "      <td>POLYGON ((605000.188 6754891.447, 605000.188 6...</td>\n",
       "      <td>0.564506</td>\n",
       "    </tr>\n",
       "    <tr>\n",
       "      <th>2</th>\n",
       "      <td>POLYGON ((605001.188 6754891.447, 605001.188 6...</td>\n",
       "      <td>0.548108</td>\n",
       "    </tr>\n",
       "    <tr>\n",
       "      <th>3</th>\n",
       "      <td>POLYGON ((605002.188 6754891.447, 605002.188 6...</td>\n",
       "      <td>0.531657</td>\n",
       "    </tr>\n",
       "    <tr>\n",
       "      <th>4</th>\n",
       "      <td>POLYGON ((604999.188 6754890.447, 604999.188 6...</td>\n",
       "      <td>0.597097</td>\n",
       "    </tr>\n",
       "    <tr>\n",
       "      <th>...</th>\n",
       "      <td>...</td>\n",
       "      <td>...</td>\n",
       "    </tr>\n",
       "    <tr>\n",
       "      <th>33763</th>\n",
       "      <td>POLYGON ((604965.188 6754594.447, 604965.188 6...</td>\n",
       "      <td>0.683830</td>\n",
       "    </tr>\n",
       "    <tr>\n",
       "      <th>33764</th>\n",
       "      <td>POLYGON ((604966.188 6754594.447, 604966.188 6...</td>\n",
       "      <td>0.683602</td>\n",
       "    </tr>\n",
       "    <tr>\n",
       "      <th>33765</th>\n",
       "      <td>POLYGON ((604967.188 6754594.447, 604967.188 6...</td>\n",
       "      <td>0.683374</td>\n",
       "    </tr>\n",
       "    <tr>\n",
       "      <th>33766</th>\n",
       "      <td>POLYGON ((604968.188 6754594.447, 604968.188 6...</td>\n",
       "      <td>0.677177</td>\n",
       "    </tr>\n",
       "    <tr>\n",
       "      <th>33767</th>\n",
       "      <td>POLYGON ((604969.188 6754594.447, 604969.188 6...</td>\n",
       "      <td>0.647569</td>\n",
       "    </tr>\n",
       "  </tbody>\n",
       "</table>\n",
       "<p>33768 rows × 2 columns</p>\n",
       "</div>"
      ],
      "text/plain": [
       "                                                geometry      NDVI\n",
       "0      POLYGON ((605002.188 6754892.447, 605002.188 6...  0.518175\n",
       "1      POLYGON ((605000.188 6754891.447, 605000.188 6...  0.564506\n",
       "2      POLYGON ((605001.188 6754891.447, 605001.188 6...  0.548108\n",
       "3      POLYGON ((605002.188 6754891.447, 605002.188 6...  0.531657\n",
       "4      POLYGON ((604999.188 6754890.447, 604999.188 6...  0.597097\n",
       "...                                                  ...       ...\n",
       "33763  POLYGON ((604965.188 6754594.447, 604965.188 6...  0.683830\n",
       "33764  POLYGON ((604966.188 6754594.447, 604966.188 6...  0.683602\n",
       "33765  POLYGON ((604967.188 6754594.447, 604967.188 6...  0.683374\n",
       "33766  POLYGON ((604968.188 6754594.447, 604968.188 6...  0.677177\n",
       "33767  POLYGON ((604969.188 6754594.447, 604969.188 6...  0.647569\n",
       "\n",
       "[33768 rows x 2 columns]"
      ]
     },
     "execution_count": 114,
     "metadata": {
      "tags": []
     },
     "output_type": "execute_result"
    }
   ],
   "source": [
    "gpd_polygonized_raster"
   ]
  },
  {
   "cell_type": "code",
   "execution_count": 0,
   "metadata": {
    "colab": {},
    "colab_type": "code",
    "id": "SoO4yS0gmnbG"
   },
   "outputs": [],
   "source": [
    "crs_sys = 'epsg:'+c_s[1]\n"
   ]
  },
  {
   "cell_type": "code",
   "execution_count": 121,
   "metadata": {
    "colab": {
     "base_uri": "https://localhost:8080/",
     "height": 70
    },
    "colab_type": "code",
    "id": "R8UqPdti6ddt",
    "outputId": "22942ed5-942b-4bcf-afd6-e80f7b60dba1"
   },
   "outputs": [
    {
     "name": "stderr",
     "output_type": "stream",
     "text": [
      "/usr/local/lib/python3.6/dist-packages/pyproj/crs/crs.py:53: FutureWarning: '+init=<authority>:<code>' syntax is deprecated. '<authority>:<code>' is the preferred initialization method. When making the change, be mindful of axis order changes: https://pyproj4.github.io/pyproj/stable/gotchas.html#axis-order-changes-in-proj-6\n",
      "  return _prepare_from_string(\" \".join(pjargs))\n"
     ]
    }
   ],
   "source": [
    "gpd_polygonized_raster['geometry'] = gpd_polygonized_raster['geometry'].to_crs({'init': crs_sys})"
   ]
  },
  {
   "cell_type": "code",
   "execution_count": 0,
   "metadata": {
    "colab": {},
    "colab_type": "code",
    "id": "moYb-QUzo9WV"
   },
   "outputs": [],
   "source": [
    "gpd_polygonized_raster.to_file('tiff1212.geojson', driver='GeoJSON') "
   ]
  }
 ],
 "metadata": {
  "colab": {
   "collapsed_sections": [],
   "name": "tiff_geojson_amitji.ipynb",
   "provenance": []
  },
  "kernelspec": {
   "display_name": "Python 3",
   "language": "python",
   "name": "python3"
  },
  "language_info": {
   "codemirror_mode": {
    "name": "ipython",
    "version": 3
   },
   "file_extension": ".py",
   "mimetype": "text/x-python",
   "name": "python",
   "nbconvert_exporter": "python",
   "pygments_lexer": "ipython3",
   "version": "3.7.3"
  }
 },
 "nbformat": 4,
 "nbformat_minor": 1
}
